{
  "nbformat": 4,
  "nbformat_minor": 0,
  "metadata": {
    "colab": {
      "name": "Check FakeVSReal using Zero Shot Pipeline.ipynb",
      "provenance": [],
      "collapsed_sections": [],
      "include_colab_link": true
    },
    "kernelspec": {
      "name": "python3",
      "display_name": "Python 3"
    },
    "accelerator": "GPU"
  },
  "cells": [
    {
      "cell_type": "markdown",
      "metadata": {
        "id": "view-in-github",
        "colab_type": "text"
      },
      "source": [
        "<a href=\"https://colab.research.google.com/github/ShussainML/Bert-FARM-for-thesis-Work/blob/main/Check_FakeVSReal_using_Zero_Shot_Pipeline.ipynb\" target=\"_parent\"><img src=\"https://colab.research.google.com/assets/colab-badge.svg\" alt=\"Open In Colab\"/></a>"
      ]
    },
    {
      "cell_type": "code",
      "metadata": {
        "id": "yTBP_QYuu6tc"
      },
      "source": [
        "!pip install transformers==3.1.0"
      ],
      "execution_count": null,
      "outputs": []
    },
    {
      "cell_type": "code",
      "metadata": {
        "id": "TiU_ES5tzpMH"
      },
      "source": [
        "from transformers import pipeline"
      ],
      "execution_count": null,
      "outputs": []
    },
    {
      "cell_type": "code",
      "metadata": {
        "id": "spkccRiv0CB3"
      },
      "source": [
        "#classifier = pipeline(\"zero-shot-classification\")\n",
        "classifier = pipeline(\"zero-shot-classification\", device=0) # to utilize GPU"
      ],
      "execution_count": null,
      "outputs": []
    },
    {
      "cell_type": "markdown",
      "metadata": {
        "id": "xWiovVJG9ei_"
      },
      "source": [
        "We can use this pipeline by passing in a sequence and a list of candidate labels. The pipeline assumes by default that only one of the candidate labels is true, returning a list of scores for each label which add up to 1."
      ]
    },
    {
      "cell_type": "markdown",
      "metadata": {
        "id": "Xi0QMazoBYIt"
      },
      "source": [
        "#To Use urdu sentenses from excel, first paste them in Notepad"
      ]
    },
    {
      "cell_type": "code",
      "metadata": {
        "id": "hkfE6NRA0Dzy",
        "colab": {
          "base_uri": "https://localhost:8080/",
          "height": 69
        },
        "outputId": "8b3f9e37-3e46-4b25-813b-c5fa7bbc3c97"
      },
      "source": [
        "sequence = \"لاکھ لوگوں روبوٹس جگہ کرونا وائرس وجہ تقریبا ملکوں لوک ڈاون نافذ کردیا وجہ شعبہ زندگی رک وجہ آپ زیادہ نقصان مسئلہ پیش نظر امریکہ سائنس‌دانوں مل ایک لوگوں تیار کیا سائنس‌دانوں لی بارٹری مدد کامیابی دوسرے ممالک فیصلہ کیا تقریبا ایک مہینے اندر سر دنیا ممالک لوگوں تیار کرلیا اب ممالک لوگوں شعبہ زندگی سنبھالا ماہرین کہنا روبوٹس فائدہ زندگی بلکل نہیں روبوٹ تھک گھنٹے کام نہیں سکتے انسانوں ممکن روبوٹس کام زندگی شعبہ سستی ممالک تنزلی راہ گامزن ہوگئے بی بی نیوز بتایا روبوٹس انسانوں بہتر کام نہیں تیزی نئی دریافت سستی سکتا ہمیں مستقبل انسانوں ضرورت\"\n",
        "candidate_labels = [\"Real\",  \"Fake\"]\n",
        "\n",
        "classifier(sequence, candidate_labels)"
      ],
      "execution_count": null,
      "outputs": [
        {
          "output_type": "execute_result",
          "data": {
            "text/plain": [
              "{'labels': ['politics', 'economics', 'public health'],\n",
              " 'scores': [0.972518801689148, 0.01458414364606142, 0.012897025793790817],\n",
              " 'sequence': 'Who are you voting for in 2020?'}"
            ]
          },
          "metadata": {
            "tags": []
          },
          "execution_count": 5
        }
      ]
    },
    {
      "cell_type": "markdown",
      "metadata": {
        "id": "PGXwxxyn9nOC"
      },
      "source": [
        "To do multi-class classification, simply pass `multi_class=True`. In this case, the scores will be independent, but each will fall between 0 and 1."
      ]
    }
  ]
}